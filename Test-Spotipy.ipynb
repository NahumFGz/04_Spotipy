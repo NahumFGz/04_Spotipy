{
 "cells": [
  {
   "cell_type": "code",
   "execution_count": 1,
   "metadata": {},
   "outputs": [],
   "source": [
    "import pandas as pd\n",
    "creds = pd.read_json('./creds.json', lines=True)\n",
    "client_id = creds['client_id'][0]\n",
    "client_secret = creds['client_secret'][0]"
   ]
  },
  {
   "cell_type": "code",
   "execution_count": 2,
   "metadata": {},
   "outputs": [
    {
     "name": "stdout",
     "output_type": "stream",
     "text": [
      "0 Island In The Sun\n",
      "1 Say It Ain't So\n",
      "2 Buddy Holly\n",
      "3 Undone - The Sweater Song\n",
      "4 Beverly Hills\n",
      "5 Africa\n",
      "6 Hash Pipe\n",
      "7 I Just Threw Out The Love Of My Dreams\n",
      "8 All My Favorite Songs (feat. AJR)\n",
      "9 Enter Sandman\n",
      "10 Pork And Beans\n",
      "11 My Name Is Jonas\n",
      "12 Take on Me\n",
      "13 Pink Triangle\n",
      "14 Lost in the Woods - Weezer Version\n",
      "15 Everybody Wants to Rule the World\n",
      "16 Say It Ain't So\n",
      "17 Records\n",
      "18 Only In Dreams\n",
      "19 (If You're Wondering If I Want You To) I Want You To\n"
     ]
    }
   ],
   "source": [
    "import spotipy \n",
    "from spotipy.oauth2 import SpotifyClientCredentials\n",
    "\n",
    "sp = spotipy.Spotify(auth_manager=SpotifyClientCredentials(client_id=client_id,client_secret=client_secret))\n",
    "results = sp.search(q='weezer', limit=20)\n",
    "for idx, track in enumerate(results['tracks']['items']):\n",
    "    print(idx, track['name'])"
   ]
  },
  {
   "cell_type": "code",
   "execution_count": null,
   "metadata": {},
   "outputs": [],
   "source": []
  }
 ],
 "metadata": {
  "kernelspec": {
   "display_name": "Python 3.7.4 ('venv': venv)",
   "language": "python",
   "name": "python3"
  },
  "language_info": {
   "codemirror_mode": {
    "name": "ipython",
    "version": 3
   },
   "file_extension": ".py",
   "mimetype": "text/x-python",
   "name": "python",
   "nbconvert_exporter": "python",
   "pygments_lexer": "ipython3",
   "version": "3.7.4"
  },
  "orig_nbformat": 4,
  "vscode": {
   "interpreter": {
    "hash": "e304c24f008b299cc6079cbb0a235b11ef37c0d8531c017263d3fc0e68fc7aa3"
   }
  }
 },
 "nbformat": 4,
 "nbformat_minor": 2
}
